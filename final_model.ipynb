{
  "cells": [
    {
      "cell_type": "code",
      "execution_count": 1,
      "metadata": {
        "id": "rTBHVPZDFrnA",
        "colab": {
          "base_uri": "https://localhost:8080/"
        },
        "outputId": "ee77c301-ddcd-4680-97fa-42bbf1e96b41"
      },
      "outputs": [
        {
          "output_type": "stream",
          "name": "stdout",
          "text": [
            "Mounted at /content/drive\n"
          ]
        }
      ],
      "source": [
        "from google.colab import drive\n",
        "drive.mount('/content/drive')"
      ]
    },
    {
      "cell_type": "code",
      "execution_count": 2,
      "metadata": {
        "id": "GxUFa2Bl04yO"
      },
      "outputs": [],
      "source": [
        "import tensorflow as tf\n",
        "import numpy as np\n",
        "import pandas as pd\n",
        "from tensorflow.keras.preprocessing.text import Tokenizer\n",
        "from tensorflow.keras.preprocessing.sequence import pad_sequences\n",
        "from tensorflow.keras.models import Model\n",
        "from tensorflow.keras.layers import Input, Embedding, Conv1D, MaxPooling1D, Flatten, Dense, Concatenate, Dropout"
      ]
    },
    {
      "cell_type": "markdown",
      "source": [
        "### Extract Domain Part of URL and assign labels"
      ],
      "metadata": {
        "id": "O7dob9AP8169"
      }
    },
    {
      "cell_type": "code",
      "execution_count": 3,
      "metadata": {
        "id": "ItkJTrNrKxjO"
      },
      "outputs": [],
      "source": [
        "# Function to load URLs from a DataFrame and assign labels\n",
        "from urllib.parse import urlparse\n",
        "def load_urls_and_labels_from_df(dataframe, label_column, label_mapping):\n",
        "    urls = dataframe['Data'].tolist()\n",
        "    categories = dataframe['Category'].tolist()\n",
        "\n",
        "    # Map categories to numerical labels\n",
        "    labels = [label_mapping[category] for category in categories]\n",
        "\n",
        "    preprocessed_urls = [parsed_url.netloc for url in urls if (parsed_url := urlparse(url if '://' in url else 'http://' + url.strip())).netloc]\n",
        "\n",
        "    return preprocessed_urls, labels\n",
        "\n",
        "\n",
        "# Path to the Excel file containing URLs and categories\n",
        "excel_file_path = 'URL.xlsx'  # Replace with the actual file path\n",
        "\n",
        "# Load data from Excel file\n",
        "df = pd.read_excel(excel_file_path)\n",
        "\n",
        "# Define label mapping (assuming 'ham' is 0 and 'spam' is 1)\n",
        "label_mapping = {'ham': 0, 'spam': 1}\n",
        "\n",
        "# Load URLs and labels with corresponding mapping\n",
        "urls, labels = load_urls_and_labels_from_df(df, label_column='category', label_mapping=label_mapping)\n",
        "\n",
        "\n",
        "# Save preprocessed URLs to a file\n",
        "output_file_path = 'preprocessed_urls.txt'\n",
        "with open(output_file_path, 'w') as file:\n",
        "    for url in urls:\n",
        "        file.write(url + '\\n')\n"
      ]
    },
    {
      "cell_type": "code",
      "execution_count": 4,
      "metadata": {
        "id": "OF3kBKP4Tdfe",
        "colab": {
          "base_uri": "https://localhost:8080/"
        },
        "outputId": "1486a82e-b1fb-4483-b657-83b8ca686b02"
      },
      "outputs": [
        {
          "output_type": "stream",
          "name": "stdout",
          "text": [
            "Mode URL Length: 14\n",
            "Mean URL Length: 19.739294293963372\n"
          ]
        }
      ],
      "source": [
        "# Calculate the mode and mean length of the URL dataset\n",
        "url_lengths = [len(url) for url in urls]\n",
        "\n",
        "# Calculate mode\n",
        "mode_length = max(set(url_lengths), key=url_lengths.count)\n",
        "\n",
        "# Calculate mean\n",
        "mean_length = sum(url_lengths) / len(url_lengths)\n",
        "\n",
        "print(f\"Mode URL Length: {mode_length}\")\n",
        "print(f\"Mean URL Length: {mean_length}\")"
      ]
    },
    {
      "cell_type": "code",
      "execution_count": 5,
      "metadata": {
        "id": "CcFtpPnjTqgB",
        "colab": {
          "base_uri": "https://localhost:8080/"
        },
        "outputId": "4b342509-aa26-4226-eb02-0fc5d003f029"
      },
      "outputs": [
        {
          "output_type": "stream",
          "name": "stdout",
          "text": [
            "Median URL Length: 17\n"
          ]
        }
      ],
      "source": [
        "# Calculate the median length of the URL dataset\n",
        "sorted_lengths = sorted(url_lengths)\n",
        "length_count = len(sorted_lengths)\n",
        "\n",
        "if length_count % 2 == 0:\n",
        "    # If the length is even, calculate the average of the middle two values\n",
        "    median_length = (sorted_lengths[length_count // 2 - 1] + sorted_lengths[length_count // 2]) / 2\n",
        "else:\n",
        "    # If the length is odd, select the middle value\n",
        "    median_length = sorted_lengths[length_count // 2]\n",
        "\n",
        "print(f\"Median URL Length: {median_length}\")"
      ]
    },
    {
      "cell_type": "markdown",
      "source": [
        "### Length Distribution of URL"
      ],
      "metadata": {
        "id": "SlPQgb139E6w"
      }
    },
    {
      "cell_type": "code",
      "execution_count": 6,
      "metadata": {
        "id": "27yyXbZET49k",
        "colab": {
          "base_uri": "https://localhost:8080/",
          "height": 472
        },
        "outputId": "55f67df0-f4a5-4296-e757-af7e809cfb06"
      },
      "outputs": [
        {
          "output_type": "display_data",
          "data": {
            "text/plain": [
              "<Figure size 640x480 with 1 Axes>"
            ],
            "image/png": "[encoded data removed]"
          },
          "metadata": {}
        }
      ],
      "source": [
        "import matplotlib.pyplot as plt\n",
        "\n",
        "# Assuming you already have the 'urls' variable containing your URLs\n",
        "url_lengths = [len(url) for url in urls]\n",
        "\n",
        "# Plot a histogram to visualize the distribution of URL lengths\n",
        "plt.hist(url_lengths, bins=50, alpha=0.75, color='b', edgecolor='black')\n",
        "plt.xlabel('URL Length')\n",
        "plt.ylabel('Frequency')\n",
        "plt.title('Distribution of URL Lengths')\n",
        "plt.show()\n",
        "\n",
        "# Analyze the plot and set a max sequence length based on your requirements\n",
        "max_sequence_length = 50\n",
        " # Set your desired max sequence length\n",
        "\n",
        "# Trim URLs to the chosen max sequence length\n",
        "trimmed_urls = [url[:max_sequence_length] for url in urls]\n",
        "\n",
        "# Now 'trimmed_urls' contains the URLs trimmed to the chosen max sequence length\n"
      ]
    },
    {
      "cell_type": "markdown",
      "source": [
        "### Class distribution of URL"
      ],
      "metadata": {
        "id": "ko8z2drQ-vtl"
      }
    },
    {
      "cell_type": "code",
      "execution_count": 7,
      "metadata": {
        "colab": {
          "base_uri": "https://localhost:8080/"
        },
        "id": "D-YCgGiqSgbF",
        "outputId": "5bab6371-6bfd-4da3-df92-bad2b29fccd1"
      },
      "outputs": [
        {
          "output_type": "stream",
          "name": "stdout",
          "text": [
            "Class Distribution:\n",
            "Category\n",
            "ham     22687\n",
            "spam    22686\n",
            "Name: count, dtype: int64\n"
          ]
        }
      ],
      "source": [
        "import pandas as pd\n",
        "\n",
        "# Assuming your labels are in a column named 'label' in a DataFrame\n",
        "class_distribution = df['Category'].value_counts()\n",
        "\n",
        "print(\"Class Distribution:\")\n",
        "print(class_distribution)"
      ]
    },
    {
      "cell_type": "markdown",
      "source": [
        "### Padding with PAD token and replacing less frequent characters with UNK token"
      ],
      "metadata": {
        "id": "BquKj4n29r9v"
      }
    },
    {
      "cell_type": "code",
      "execution_count": 8,
      "metadata": {
        "id": "yqJP2_8X-6IJ"
      },
      "outputs": [],
      "source": [
        "# Create a set of all characters in the URLs\n",
        "all_characters = set(''.join(urls))\n",
        "\n",
        "# Replace less frequent characters with <UNK>\n",
        "frequency_threshold = 100\n",
        "character_counts = {char: 0 for char in all_characters}\n",
        "for url in urls:\n",
        "    for char in url:\n",
        "        character_counts[char] += 1\n",
        "\n",
        "# Modify the URLs by replacing less frequent characters with <UNK>\n",
        "for i in range(len(urls)):\n",
        "    for char, count in character_counts.items():\n",
        "        if count < frequency_threshold:\n",
        "            urls[i] = urls[i].replace(char, '<UNK>')\n",
        "\n",
        "# Obtain M unique characters including <UNK> and <PAD>\n",
        "unique_characters = list(set(''.join(urls)))\n",
        "unique_characters += ['<UNK>', '<PAD>']\n",
        "M = len(unique_characters)\n",
        "\n",
        "# Set the length of the sequence L1 to 100 characters\n",
        "L1 = 50\n",
        "\n",
        "# Truncate URLs longer than 100 characters\n",
        "urls_truncated = [url[:L1] for url in urls]\n",
        "\n",
        "# Now, 'urls_truncated' contains the modified URLs, and 'labels' contains corresponding numerical labels."
      ]
    },
    {
      "cell_type": "markdown",
      "metadata": {
        "id": "dLnBWd1Z4kLA"
      },
      "source": [
        "### URL tokenizer and shuffling of dataset to introduce randomness"
      ]
    },
    {
      "cell_type": "code",
      "execution_count": 9,
      "metadata": {
        "id": "vtUeLuveNSo2"
      },
      "outputs": [],
      "source": [
        "import pandas as pd\n",
        "import numpy as np\n",
        "from tensorflow.keras.preprocessing.text import Tokenizer\n",
        "from tensorflow.keras.preprocessing.sequence import pad_sequences\n",
        "\n",
        "# Shuffle the data\n",
        "indices = np.arange(len(urls_truncated))\n",
        "np.random.shuffle(indices)\n",
        "\n",
        "# Shuffle URLs and labels accordingly\n",
        "shuffled_urls = [urls_truncated[i] for i in indices]\n",
        "shuffled_labels = [labels[i] for i in indices]\n",
        "\n",
        "tokenizer = Tokenizer(char_level=True, oov_token='<UNK>')\n",
        "tokenizer.fit_on_texts(shuffled_urls)\n",
        "sequences = tokenizer.texts_to_sequences(shuffled_urls)\n",
        "padded_sequences = pad_sequences(sequences, maxlen=L1, padding='post', truncating='post')\n",
        "\n",
        "# Read the Excel file into a DataFrame\n",
        "ddf = pd.read_excel('data1.xlsx')\n",
        "\n",
        "# Shuffle DataFrame rows based on the shuffled indices\n",
        "shuffled_dataset = ddf.iloc[indices].reset_index(drop=True)\n",
        "\n",
        "# Extract data from the third column to the last column\n",
        "ddf = shuffled_dataset.iloc[:, 3:]\n"
      ]
    },
    {
      "cell_type": "code",
      "execution_count": 10,
      "metadata": {
        "colab": {
          "base_uri": "https://localhost:8080/"
        },
        "id": "vpu0z3bqA4B9",
        "outputId": "8b92051f-79e8-4cb6-be5d-97b63d6dbcdc"
      },
      "outputs": [
        {
          "output_type": "stream",
          "name": "stdout",
          "text": [
            "[23 36 20 21 15  2  7 16 16  2 14 12 13 23  0  0  0  0  0  0  0  0  0  0\n",
            "  0  0  0  0  0  0  0  0  0  0  0  0  0  0  0  0  0  0  0  0  0  0  0  0\n",
            "  0  0]\n"
          ]
        }
      ],
      "source": [
        "print(padded_sequences[5])"
      ]
    },
    {
      "cell_type": "markdown",
      "metadata": {
        "id": "DVtJrHnsBG7-"
      },
      "source": [
        "### Splitting dataset"
      ]
    },
    {
      "cell_type": "code",
      "execution_count": 11,
      "metadata": {
        "colab": {
          "base_uri": "https://localhost:8080/"
        },
        "id": "QKxaHBoyBPC-",
        "outputId": "491e27d7-1541-4763-c0c6-d2fd2c8a8a25"
      },
      "outputs": [
        {
          "output_type": "stream",
          "name": "stdout",
          "text": [
            "[[ 0  4 22  4  0  1]\n",
            " [ 0  2 20  3  0  0]\n",
            " [ 0  4 20  3  0  1]\n",
            " ...\n",
            " [ 0  6 21  5  0  0]\n",
            " [ 0  3 17  4  0  0]\n",
            " [ 0  1 24  2  0  0]]\n"
          ]
        }
      ],
      "source": [
        "# Split the data into training and testing sets\n",
        "from sklearn.model_selection import train_test_split\n",
        "\n",
        "X = padded_sequences\n",
        "y = shuffled_labels\n",
        "X_numeric = ddf.values\n",
        "print(X_numeric)\n",
        "\n",
        "X_numeric_train, X_numeric_test, X_train, X_test, X_train_char, X_test_char, y_train, y_test = train_test_split(X_numeric, shuffled_urls, X, y, test_size=0.2, random_state=42)\n"
      ]
    },
    {
      "cell_type": "markdown",
      "source": [
        "### Creating n-gram feature vector of URL"
      ],
      "metadata": {
        "id": "nLOO6Cfm-izG"
      }
    },
    {
      "cell_type": "code",
      "execution_count": 12,
      "metadata": {
        "colab": {
          "base_uri": "https://localhost:8080/"
        },
        "id": "ZERrPYca5P0j",
        "outputId": "0c1fc58b-e7f5-4886-fcbf-f879d4ea2135"
      },
      "outputs": [
        {
          "output_type": "stream",
          "name": "stdout",
          "text": [
            "Shape of X_train_ngram: (36298, 1000)\n"
          ]
        }
      ],
      "source": [
        "from sklearn.feature_extraction.text import CountVectorizer\n",
        "# X_train_list = X_train.tolist()\n",
        "# X_test_list = X_test.tolist()\n",
        "\n",
        "# Define the n-gram range and maximum number of features\n",
        "ngram_range = (2, 5)  # Consider n-grams of length 2 to 5\n",
        "max_features = 1000  # Maximum number of features\n",
        "\n",
        "# Initialize CountVectorizer to extract n-grams\n",
        "vectorizer = CountVectorizer(analyzer='char', ngram_range=ngram_range, max_features=max_features)\n",
        "\n",
        "# Convert X_train to a list of strings if it's a NumPy array\n",
        "X_train_list = X_train.tolist() if isinstance(X_train, np.ndarray) else X_train\n",
        "X_train_list = [str(item) for item in X_train_list]\n",
        "\n",
        "X_test_list = X_test.tolist() if isinstance(X_test, np.ndarray) else X_test\n",
        "X_test_list = [str(item) for item in X_test_list]\n",
        "# Fit the vectorizer on your training data\n",
        "vectorizer.fit(X_train_list)\n",
        "\n",
        "# Transform the training and testing data into n-gram representations\n",
        "X_train_ngram = vectorizer.transform(X_train_list)\n",
        "X_test_ngram = vectorizer.transform(X_test_list)\n",
        "\n",
        "# Convert the sparse matrices to dense arrays\n",
        "X_train_ngram = X_train_ngram.toarray()\n",
        "X_test_ngram = X_test_ngram.toarray()\n",
        "\n",
        "# Initialize CountVectorizer to extract n-grams\n",
        "vectorizer = CountVectorizer(analyzer='char', ngram_range=ngram_range, max_features=max_features)\n",
        "\n",
        "\n",
        "\n",
        "# Print the shape of the n-gram matrix\n",
        "print(\"Shape of X_train_ngram:\", X_train_ngram.shape)\n"
      ]
    },
    {
      "cell_type": "code",
      "execution_count": 13,
      "metadata": {
        "colab": {
          "base_uri": "https://localhost:8080/"
        },
        "id": "KHWxRrw6An-k",
        "outputId": "8ec1486b-0977-4be4-b386-a4b0331bef1b"
      },
      "outputs": [
        {
          "output_type": "stream",
          "name": "stdout",
          "text": [
            "Total number of unique n-grams: 1000\n"
          ]
        }
      ],
      "source": [
        "\n",
        "vectorizer.fit(X_train_list)\n",
        "num_ngrams = len(vectorizer.vocabulary_)\n",
        "\n",
        "# Print the total number of unique n-grams\n",
        "print(\"Total number of unique n-grams:\", num_ngrams)"
      ]
    },
    {
      "cell_type": "markdown",
      "source": [
        "### Input and Embedding Layer"
      ],
      "metadata": {
        "id": "SN-gzhdE_PQq"
      }
    },
    {
      "cell_type": "code",
      "source": [
        "max_sequence_length_char = 50\n",
        "max_sequence_length_ngram = len(vectorizer.vocabulary_)\n",
        "embedding_dim = 16\n",
        "num_filters = 128\n",
        "filter_sizes = [3,4,5]\n",
        "\n",
        "# Define input layer\n",
        "input_layer_char = Input(shape=(max_sequence_length_char,))\n",
        "input_layer_ngram = Input(shape=(max_sequence_length_ngram,))\n",
        "input_layer_numeric = Input(shape=(6,))\n",
        "\n",
        "# Character embedding layer\n",
        "embedding_layer_char = Embedding(input_dim=len(tokenizer.word_index) + 1, output_dim=embedding_dim)(input_layer_char)\n",
        "\n",
        "# N-gram embedding layer\n",
        "embedding_layer_ngram = Embedding(input_dim=num_ngrams, output_dim=embedding_dim)(input_layer_ngram)"
      ],
      "metadata": {
        "id": "ThgVvv4j_H5q"
      },
      "execution_count": 14,
      "outputs": []
    },
    {
      "cell_type": "markdown",
      "source": [
        "### Convolutional Layer"
      ],
      "metadata": {
        "id": "ZdmUY28E_c4D"
      }
    },
    {
      "cell_type": "code",
      "source": [
        "# Convolutional blocks for character embedding\n",
        "conv_blocks_char = []\n",
        "for filter_size in filter_sizes:\n",
        "    conv_layer = Conv1D(filters=num_filters, kernel_size=filter_size, activation='relu')(embedding_layer_char)\n",
        "    maxpool_layer = MaxPooling1D(pool_size=max_sequence_length_char - filter_size + 1)(conv_layer)\n",
        "    conv_blocks_char.append(maxpool_layer)\n",
        "\n",
        "# Convolutional blocks for n-gram embedding\n",
        "conv_blocks_ngram = []\n",
        "for filter_size in filter_sizes:\n",
        "    conv_layer = Conv1D(filters=num_filters, kernel_size=filter_size, activation='relu')(embedding_layer_ngram)\n",
        "    maxpool_layer = MaxPooling1D(pool_size=max_sequence_length_ngram - filter_size + 1)(conv_layer)\n",
        "    conv_blocks_ngram.append(maxpool_layer)\n"
      ],
      "metadata": {
        "id": "maD7sKK8_boM"
      },
      "execution_count": 15,
      "outputs": []
    },
    {
      "cell_type": "markdown",
      "source": [
        "### Concatenation of features"
      ],
      "metadata": {
        "id": "qKQwW7h9_nyY"
      }
    },
    {
      "cell_type": "code",
      "source": [
        "from tensorflow.keras.layers import Input, Embedding, Conv1D, MaxPooling1D, Concatenate, Flatten, Dense, Dropout, Reshape\n",
        "from tensorflow.keras.models import Model\n",
        "\n",
        "# Concatenate the outputs from different filter sizes for both character and n-gram embeddings\n",
        "concatenated_char = Concatenate()(conv_blocks_char)\n",
        "concatenated_ngram = Concatenate()(conv_blocks_ngram)\n",
        "\n",
        "# Reshape numeric input\n",
        "reshaped_input_layer_numeric = Reshape((1, 6))(input_layer_numeric)\n",
        "\n",
        "# Concatenate the outputs from character and n-gram embeddings\n",
        "concatenated_output = Concatenate()([concatenated_char, concatenated_ngram, reshaped_input_layer_numeric])\n"
      ],
      "metadata": {
        "id": "JY9NS7qK_pd9"
      },
      "execution_count": 16,
      "outputs": []
    },
    {
      "cell_type": "markdown",
      "source": [
        "### Attention Layer"
      ],
      "metadata": {
        "id": "q-5I6ko8_p-Y"
      }
    },
    {
      "cell_type": "code",
      "source": [
        "class AttentionLayer(tf.keras.layers.Layer):\n",
        "    def __init__(self, dropout_rate=0.1, **kwargs):\n",
        "        super(AttentionLayer, self).__init__(**kwargs)\n",
        "        self.dropout_rate = dropout_rate\n",
        "\n",
        "    def build(self, input_shape):\n",
        "        self.W = self.add_weight(name=\"att_weight\", shape=(input_shape[-1], 1), initializer=\"glorot_normal\")\n",
        "        self.b = self.add_weight(name=\"att_bias\", shape=(input_shape[1], 1), initializer=\"zeros\")\n",
        "        self.dropout = tf.keras.layers.Dropout(self.dropout_rate)\n",
        "        self.layer_norm = tf.keras.layers.LayerNormalization(epsilon=1e-6)\n",
        "        super(AttentionLayer, self).build(input_shape)\n",
        "\n",
        "    def call(self, x, mask=None):\n",
        "        et = tf.squeeze(tf.tanh(tf.matmul(x, self.W) + self.b), axis=-1)\n",
        "        if mask is not None:\n",
        "            et += (1.0 - mask) * -1e9  # Masked positions will have very negative scores\n",
        "        at = tf.nn.softmax(et)\n",
        "        at = tf.expand_dims(at, axis=-1)\n",
        "        output = x * at\n",
        "        output = tf.reduce_sum(output, axis=1)\n",
        "        output = self.layer_norm(output)\n",
        "        output = self.dropout(output)\n",
        "        return output\n",
        "\n",
        "\n",
        "# Apply attention mechanism\n",
        "attention_output = AttentionLayer()(concatenated_output)"
      ],
      "metadata": {
        "id": "t6BHR3-A_qtK"
      },
      "execution_count": 17,
      "outputs": []
    },
    {
      "cell_type": "markdown",
      "metadata": {
        "id": "HuVc4oJcFChe"
      },
      "source": [
        "### Neural Network Classifier"
      ]
    },
    {
      "cell_type": "code",
      "execution_count": 18,
      "metadata": {
        "colab": {
          "base_uri": "https://localhost:8080/"
        },
        "id": "YS8DlHYoFsL0",
        "outputId": "ca3f66bd-29dc-428d-b3a7-5bfe04bb6d36"
      },
      "outputs": [
        {
          "output_type": "stream",
          "name": "stdout",
          "text": [
            "Model: \"model\"\n",
            "__________________________________________________________________________________________________\n",
            " Layer (type)                Output Shape                 Param #   Connected to                  \n",
            "==================================================================================================\n",
            " input_1 (InputLayer)        [(None, 50)]                 0         []                            \n",
            "                                                                                                  \n",
            " input_2 (InputLayer)        [(None, 1000)]               0         []                            \n",
            "                                                                                                  \n",
            " embedding (Embedding)       (None, 50, 16)               688       ['input_1[0][0]']             \n",
            "                                                                                                  \n",
            " embedding_1 (Embedding)     (None, 1000, 16)             16000     ['input_2[0][0]']             \n",
            "                                                                                                  \n",
            " conv1d (Conv1D)             (None, 48, 128)              6272      ['embedding[0][0]']           \n",
            "                                                                                                  \n",
            " conv1d_1 (Conv1D)           (None, 47, 128)              8320      ['embedding[0][0]']           \n",
            "                                                                                                  \n",
            " conv1d_2 (Conv1D)           (None, 46, 128)              10368     ['embedding[0][0]']           \n",
            "                                                                                                  \n",
            " conv1d_3 (Conv1D)           (None, 998, 128)             6272      ['embedding_1[0][0]']         \n",
            "                                                                                                  \n",
            " conv1d_4 (Conv1D)           (None, 997, 128)             8320      ['embedding_1[0][0]']         \n",
            "                                                                                                  \n",
            " conv1d_5 (Conv1D)           (None, 996, 128)             10368     ['embedding_1[0][0]']         \n",
            "                                                                                                  \n",
            " max_pooling1d (MaxPooling1  (None, 1, 128)               0         ['conv1d[0][0]']              \n",
            " D)                                                                                               \n",
            "                                                                                                  \n",
            " max_pooling1d_1 (MaxPoolin  (None, 1, 128)               0         ['conv1d_1[0][0]']            \n",
            " g1D)                                                                                             \n",
            "                                                                                                  \n",
            " max_pooling1d_2 (MaxPoolin  (None, 1, 128)               0         ['conv1d_2[0][0]']            \n",
            " g1D)                                                                                             \n",
            "                                                                                                  \n",
            " max_pooling1d_3 (MaxPoolin  (None, 1, 128)               0         ['conv1d_3[0][0]']            \n",
            " g1D)                                                                                             \n",
            "                                                                                                  \n",
            " max_pooling1d_4 (MaxPoolin  (None, 1, 128)               0         ['conv1d_4[0][0]']            \n",
            " g1D)                                                                                             \n",
            "                                                                                                  \n",
            " max_pooling1d_5 (MaxPoolin  (None, 1, 128)               0         ['conv1d_5[0][0]']            \n",
            " g1D)                                                                                             \n",
            "                                                                                                  \n",
            " input_3 (InputLayer)        [(None, 6)]                  0         []                            \n",
            "                                                                                                  \n",
            " concatenate (Concatenate)   (None, 1, 384)               0         ['max_pooling1d[0][0]',       \n",
            "                                                                     'max_pooling1d_1[0][0]',     \n",
            "                                                                     'max_pooling1d_2[0][0]']     \n",
            "                                                                                                  \n",
            " concatenate_1 (Concatenate  (None, 1, 384)               0         ['max_pooling1d_3[0][0]',     \n",
            " )                                                                   'max_pooling1d_4[0][0]',     \n",
            "                                                                     'max_pooling1d_5[0][0]']     \n",
            "                                                                                                  \n",
            " reshape (Reshape)           (None, 1, 6)                 0         ['input_3[0][0]']             \n",
            "                                                                                                  \n",
            " concatenate_2 (Concatenate  (None, 1, 774)               0         ['concatenate[0][0]',         \n",
            " )                                                                   'concatenate_1[0][0]',       \n",
            "                                                                     'reshape[0][0]']             \n",
            "                                                                                                  \n",
            " attention_layer (Attention  (None, 774)                  2323      ['concatenate_2[0][0]']       \n",
            " Layer)                                                                                           \n",
            "                                                                                                  \n",
            " dense (Dense)               (None, 256)                  198400    ['attention_layer[0][0]']     \n",
            "                                                                                                  \n",
            " dropout (Dropout)           (None, 256)                  0         ['dense[0][0]']               \n",
            "                                                                                                  \n",
            " dense_1 (Dense)             (None, 128)                  32896     ['dropout[0][0]']             \n",
            "                                                                                                  \n",
            " dropout_1 (Dropout)         (None, 128)                  0         ['dense_1[0][0]']             \n",
            "                                                                                                  \n",
            " dense_2 (Dense)             (None, 1)                    129       ['dropout_1[0][0]']           \n",
            "                                                                                                  \n",
            "==================================================================================================\n",
            "Total params: 300356 (1.15 MB)\n",
            "Trainable params: 300356 (1.15 MB)\n",
            "Non-trainable params: 0 (0.00 Byte)\n",
            "__________________________________________________________________________________________________\n",
            "Epoch 1/10\n",
            "1815/1815 [==============================] - 50s 23ms/step - loss: 0.2819 - accuracy: 0.8880 - val_loss: 0.1998 - val_accuracy: 0.9257\n",
            "Epoch 2/10\n",
            "1815/1815 [==============================] - 42s 23ms/step - loss: 0.2017 - accuracy: 0.9240 - val_loss: 0.1819 - val_accuracy: 0.9322\n",
            "Epoch 3/10\n",
            "1815/1815 [==============================] - 36s 20ms/step - loss: 0.1763 - accuracy: 0.9345 - val_loss: 0.1743 - val_accuracy: 0.9350\n",
            "Epoch 4/10\n",
            "1815/1815 [==============================] - 37s 20ms/step - loss: 0.1549 - accuracy: 0.9413 - val_loss: 0.1633 - val_accuracy: 0.9386\n",
            "Epoch 5/10\n",
            "1815/1815 [==============================] - 35s 19ms/step - loss: 0.1408 - accuracy: 0.9469 - val_loss: 0.1541 - val_accuracy: 0.9430\n",
            "Epoch 6/10\n",
            "1815/1815 [==============================] - 34s 19ms/step - loss: 0.1224 - accuracy: 0.9533 - val_loss: 0.1708 - val_accuracy: 0.9440\n",
            "Epoch 7/10\n",
            "1815/1815 [==============================] - 34s 19ms/step - loss: 0.1094 - accuracy: 0.9599 - val_loss: 0.1566 - val_accuracy: 0.9458\n",
            "Epoch 8/10\n",
            "1815/1815 [==============================] - 35s 20ms/step - loss: 0.1009 - accuracy: 0.9622 - val_loss: 0.2233 - val_accuracy: 0.9345\n",
            "Epoch 9/10\n",
            "1815/1815 [==============================] - 34s 19ms/step - loss: 0.0937 - accuracy: 0.9645 - val_loss: 0.2031 - val_accuracy: 0.9349\n",
            "Epoch 10/10\n",
            "1815/1815 [==============================] - 35s 19ms/step - loss: 0.0815 - accuracy: 0.9686 - val_loss: 0.1691 - val_accuracy: 0.9484\n",
            "284/284 [==============================] - 3s 8ms/step - loss: 0.1691 - accuracy: 0.9484\n",
            "Loss: 0.16908586025238037\n",
            "Accuracy: 0.9484297633171082\n"
          ]
        }
      ],
      "source": [
        "import numpy as np\n",
        "import tensorflow as tf\n",
        "from tensorflow.keras.optimizers import Adam\n",
        "from tensorflow.keras.callbacks import EarlyStopping\n",
        "\n",
        "\n",
        "# Fully connected layers for classification\n",
        "dense_layer1 = Dense(256, activation='relu')(attention_output)  # First FC layer\n",
        "dropout_layer = Dropout(0.3)(dense_layer1)\n",
        "dense_layer2 = Dense(128, activation='relu')(dropout_layer)   # Second FC layer\n",
        "dropout_layer2 = Dropout(0.3)(dense_layer2)\n",
        "output_layer = Dense(1, activation='sigmoid')(dropout_layer2)\n",
        "\n",
        "# Create the model\n",
        "model = Model(inputs=[input_layer_char, input_layer_ngram, input_layer_numeric], outputs=output_layer)\n",
        "\n",
        "# Convert data to numpy arrays\n",
        "X_train_char = np.array(X_train_char)\n",
        "X_train_ngram = np.array(X_train_ngram)\n",
        "X_numeric_train = np.array(X_numeric_train)\n",
        "y_train = np.array(y_train)\n",
        "\n",
        "X_test_char = np.array(X_test_char)\n",
        "X_test_ngram = np.array(X_test_ngram)\n",
        "X_numeric_test = np.array(X_numeric_test)\n",
        "y_test = np.array(y_test)\n",
        "\n",
        "# Compile the model\n",
        "model.compile(optimizer=Adam(learning_rate=0.0015), loss='binary_crossentropy', metrics=['accuracy'])\n",
        "\n",
        "# Print the model summary\n",
        "model.summary()\n",
        "\n",
        "# Train the model\n",
        "early_stopping = EarlyStopping(monitor='val_loss', patience=3)\n",
        "history = model.fit([X_train_char, X_train_ngram, X_numeric_train], y_train, epochs=10, batch_size=20, validation_data=([X_test_char, X_test_ngram, X_numeric_test], y_test))\n",
        "\n",
        "# Evaluate the model\n",
        "loss, accuracy = model.evaluate([X_test_char, X_test_ngram, X_numeric_test], y_test)\n",
        "print(\"Loss:\", loss)\n",
        "print(\"Accuracy:\", accuracy)\n"
      ]
    },
    {
      "cell_type": "code",
      "source": [
        "# Get the weights of the first embedding layer\n",
        "weights_1 = model.layers[2].get_weights()[0]\n",
        "\n",
        "# Get the weights of the second embedding layer\n",
        "weights_2 = model.layers[3].get_weights()[0]\n",
        "\n",
        "# Print the shape of the weights matrices\n",
        "print(\"Shape of embedding weights 1:\", weights_1.shape)\n",
        "print(\"Shape of embedding weights 2:\", weights_2.shape)\n",
        "\n",
        "# Print the actual values of the embedding weights\n",
        "print(\"Embedding weights 1:\")\n",
        "print(weights_1)\n",
        "\n",
        "print(\"Embedding weights 2:\")\n",
        "print(weights_2)"
      ],
      "metadata": {
        "colab": {
          "base_uri": "https://localhost:8080/"
        },
        "id": "LpBZQFvaNdo7",
        "outputId": "efd55c7c-b115-4171-dbe9-1634a26ccc07"
      },
      "execution_count": 24,
      "outputs": [
        {
          "output_type": "stream",
          "name": "stdout",
          "text": [
            "Shape of embedding weights 1: (43, 16)\n",
            "Shape of embedding weights 2: (1000, 16)\n",
            "Embedding weights 1:\n",
            "[[ 2.83420444e-01 -2.04589292e-02  2.16400430e-01  7.71219060e-02\n",
            "  -1.72847241e-01 -2.97774315e-01  2.27492526e-01  6.24270327e-02\n",
            "   2.10309312e-01  1.57476291e-01 -2.55058676e-01  1.22485906e-01\n",
            "   2.37070322e-01  8.28925669e-02 -2.31477976e-01  3.08651358e-01]\n",
            " [ 3.76362093e-02 -8.73490423e-03 -2.11115722e-02  4.49683182e-02\n",
            "  -2.94817612e-03 -1.73145160e-02 -4.83057983e-02 -3.89901027e-02\n",
            "   2.45909765e-03 -1.00990161e-02 -2.33836416e-02 -3.82902510e-02\n",
            "   2.45936252e-02 -4.97027040e-02 -4.01244871e-02 -6.92277029e-03]\n",
            " [ 3.20145994e-01 -1.73620752e-03  8.48224834e-02 -6.91753551e-02\n",
            "   1.82886660e-01 -7.24983960e-02 -2.23865956e-01  2.69818038e-01\n",
            "  -1.69137701e-01 -2.17945933e-01 -1.99130043e-01  1.77201837e-01\n",
            "  -3.00584316e-01 -2.30457224e-02 -2.07981423e-01 -8.90143495e-03]\n",
            " [-1.59873605e-01 -3.14735085e-01 -1.20814241e-01 -2.07645804e-01\n",
            "  -3.31713632e-02  1.46713674e-01 -1.03693031e-01 -2.36625403e-01\n",
            "  -5.70482202e-02  1.87794581e-01 -6.08891957e-02  2.35658512e-01\n",
            "   6.43434078e-02  1.14761323e-01 -3.78265887e-01  4.26530987e-02]\n",
            " [-8.58332813e-02  5.76112121e-02  2.22010911e-01 -1.28302768e-01\n",
            "   1.40709907e-01  2.18930077e-02  3.94407213e-01 -1.82243515e-04\n",
            "  -1.13331646e-01  4.05145697e-02  3.19005191e-01 -2.88665742e-01\n",
            "   1.15577847e-01 -2.03852445e-01 -3.89155746e-01  9.18700173e-02]\n",
            " [-5.54220267e-02  1.28497735e-01  2.17646182e-01 -2.74369210e-01\n",
            "   2.07993656e-01 -2.35015154e-01 -1.12443916e-01 -2.85678953e-01\n",
            "  -1.67990059e-01  2.01494783e-01 -1.81099281e-01  2.81197667e-01\n",
            "  -1.21633515e-01 -1.19138971e-01  3.54581922e-01  3.25445056e-01]\n",
            " [-7.04759825e-03  4.07933950e-01  2.97667980e-01  9.59145799e-02\n",
            "  -8.85469168e-02  1.99491009e-01  2.40885100e-04 -1.09401651e-01\n",
            "  -2.03444272e-01 -1.82058766e-01 -8.77204984e-02 -2.80965269e-01\n",
            "  -1.92808896e-01 -4.49529029e-02  1.11267500e-01 -2.63054550e-01]\n",
            " [-2.68207222e-01 -2.48172134e-01  5.78478025e-03  1.68061361e-01\n",
            "   2.67231584e-01 -1.30325422e-01 -2.12932542e-01 -2.34188121e-02\n",
            "   1.20793758e-02 -5.12919128e-02 -1.45394683e-01 -4.06952262e-01\n",
            "   3.58987570e-01 -1.15006968e-01  2.54119009e-01 -3.50434482e-02]\n",
            " [-3.20478350e-01  1.18664399e-01 -1.45459875e-01 -7.28031695e-02\n",
            "  -1.39139414e-01  1.12042919e-01  2.41144672e-01  9.44536775e-02\n",
            "   2.74895485e-02 -2.97056794e-01  2.20335722e-02 -1.41332164e-01\n",
            "  -3.47561121e-01  3.63361299e-01  2.40488350e-01  2.50897378e-01]\n",
            " [-3.20947558e-01  2.01956645e-01  3.24422829e-02  4.24792320e-02\n",
            "  -4.30638641e-01 -1.67835236e-01 -2.49368340e-01 -1.78349361e-01\n",
            "   1.25050634e-01  1.25136927e-01 -1.88492626e-01 -6.39653653e-02\n",
            "  -1.09559700e-01 -2.12397695e-01 -3.06911200e-01 -1.59921031e-02]\n",
            " [ 1.37060374e-01 -8.45916346e-02 -3.85772914e-01  2.11050451e-01\n",
            "  -4.16708559e-01  1.57717317e-02  7.45069310e-02  5.26009142e-01\n",
            "  -2.25496106e-02 -9.81018171e-02 -1.29831225e-01 -7.66594708e-02\n",
            "   1.85306713e-01  1.13707267e-01 -4.92829643e-02 -1.19822212e-01]\n",
            " [ 1.71563417e-01  1.25587597e-01 -2.14936778e-01  1.87906519e-01\n",
            "  -1.61736488e-01 -2.22991165e-02 -2.35737726e-01  2.19997671e-02\n",
            "   1.68281391e-01  4.19203117e-02  6.16287649e-01  2.46713504e-01\n",
            "  -7.84845948e-02 -3.19909364e-01  1.07999161e-01  2.36473620e-01]\n",
            " [-2.50915080e-01  1.28363580e-01  3.55006196e-03  1.69564888e-01\n",
            "   2.27925941e-01 -7.99309537e-02  2.04841867e-01  7.32191578e-02\n",
            "   2.32283697e-01  7.84663334e-02 -3.71139459e-02  3.76282066e-01\n",
            "  -8.84770826e-02 -1.47213161e-01  1.74008489e-01 -5.78113556e-01]\n",
            " [-2.00857464e-02  1.52555564e-02 -1.38658971e-01 -3.46502848e-03\n",
            "  -6.76040500e-02  3.47732306e-01 -1.91293687e-01 -1.05373912e-01\n",
            "  -3.45701694e-01  4.33718830e-01  2.24358499e-01 -4.41330560e-02\n",
            "  -3.93657535e-02  1.20244420e-03  7.67082423e-02 -1.55387044e-01]\n",
            " [-1.10285036e-01 -1.74636200e-01 -2.62961090e-01  6.52019233e-02\n",
            "   1.00020885e-01 -2.85388649e-01 -4.24336530e-02 -8.44973326e-02\n",
            "  -8.28004703e-02 -4.95625556e-01  5.03570974e-01  2.75078565e-01\n",
            "   1.92560032e-01 -6.55990317e-02 -1.80161566e-01  7.69684091e-02]\n",
            " [ 1.32598534e-01 -2.74037659e-01  5.28429151e-01  2.43467674e-01\n",
            "   1.45791965e-02  3.25141519e-01  3.40802193e-01  2.41041079e-01\n",
            "  -1.18903354e-01  2.41722062e-01  2.58803397e-01  1.47125408e-01\n",
            "   6.55933470e-02  7.51121491e-02  2.60039449e-01  4.95019108e-02]\n",
            " [ 4.09923524e-01 -1.30218461e-01 -3.57226670e-01  1.91625267e-01\n",
            "   1.35024622e-01  2.41479605e-01  1.87230185e-01 -2.77203470e-01\n",
            "   2.75016040e-01  1.26146078e-01 -4.52388108e-01 -2.06669018e-01\n",
            "  -1.55181244e-01 -4.08134520e-01  1.66730911e-01  2.35538155e-01]\n",
            " [-3.04486006e-01  3.06677490e-01  2.98901320e-01 -1.25507161e-03\n",
            "  -5.86252771e-02  1.48414969e-01 -2.67776161e-01  2.68287897e-01\n",
            "  -1.66386683e-02 -1.03131026e-01  1.50272553e-03  2.43232340e-01\n",
            "   6.02141500e-01  1.14889808e-01  1.41870826e-01  2.99456120e-01]\n",
            " [-5.08988723e-02 -1.02224171e-01  3.71929742e-02 -6.04740083e-01\n",
            "  -5.52041054e-01 -2.31738567e-01 -6.94522485e-02 -1.71396583e-01\n",
            "  -7.30063170e-02  2.59153664e-01 -2.74369158e-02 -3.43727112e-01\n",
            "   3.76473442e-02  1.81683619e-02  1.72743693e-01 -3.81421685e-01]\n",
            " [ 1.00117624e-01  2.98311710e-01 -1.99366152e-01  2.07555726e-01\n",
            "   8.06783605e-03 -3.29215318e-01  1.87231004e-01 -1.29478410e-01\n",
            "  -1.86194614e-01 -1.99664548e-01 -4.63397712e-01 -6.30357862e-02\n",
            "   3.34392190e-01  2.64137745e-01  3.98389757e-01 -6.76181316e-02]\n",
            " [ 5.49321948e-03  2.47287713e-02 -4.40609217e-01 -7.69057095e-01\n",
            "   3.55508417e-01  8.93966481e-02  1.20448843e-01  2.49706328e-01\n",
            "   1.74879625e-01  3.46473545e-01  4.17353392e-01 -2.07517713e-01\n",
            "  -7.82742202e-02  1.63429469e-01 -5.38776778e-02 -1.75702721e-01]\n",
            " [ 1.46357045e-01  2.49671966e-01  1.77539796e-01  1.08397409e-01\n",
            "   1.12910204e-01 -3.36441934e-01 -2.02572688e-01  1.70272589e-02\n",
            "   2.22792104e-01  6.05674684e-01  3.96081686e-01 -2.49302745e-01\n",
            "  -2.34094337e-01  4.81710464e-01  1.14491031e-01  2.40837276e-01]\n",
            " [ 1.81194857e-01 -4.33385074e-01  5.87154925e-01 -1.98241144e-01\n",
            "   1.06419899e-01 -3.30256999e-01 -2.33603448e-01 -3.59662063e-02\n",
            "   4.03774083e-01 -2.68290907e-01  3.12246561e-01 -2.67054111e-01\n",
            "  -1.55810609e-01  8.65484178e-02  2.31872588e-01 -3.91037107e-01]\n",
            " [ 2.30862230e-01 -3.48626524e-01 -4.77725454e-02  2.19748378e-01\n",
            "  -4.12641138e-01 -6.42858222e-02  1.67378440e-01 -4.06778365e-01\n",
            "   2.61452764e-01 -3.21865648e-01  2.26353094e-01 -1.73494607e-01\n",
            "  -1.86091721e-01  3.71927798e-01  6.58434853e-02  1.83202416e-01]\n",
            " [ 2.04220995e-01  1.83270499e-01 -3.58555377e-01  1.54656112e-01\n",
            "   2.20780060e-01  3.13952774e-01 -2.92559508e-02 -3.84432346e-01\n",
            "   3.48654330e-01 -2.51810521e-01  3.49340320e-01 -7.09855258e-02\n",
            "   2.96438243e-02  1.90832317e-01 -1.02171548e-01 -2.99287975e-01]\n",
            " [-1.76621392e-01 -3.51123512e-01 -2.02491254e-01  2.92807549e-01\n",
            "   2.77733207e-01 -6.19721338e-02  4.45725173e-01  4.37122524e-01\n",
            "  -1.46434344e-02 -1.18202809e-02  3.15114498e-01  1.14509895e-01\n",
            "   1.18611686e-01  5.09363592e-01 -1.22036353e-01 -8.58845413e-02]\n",
            " [ 6.37182593e-01 -2.95014888e-01  4.99087060e-03  3.01011980e-01\n",
            "   1.83524266e-01 -1.55528262e-01  4.80164528e-01 -1.13737315e-01\n",
            "   3.31912518e-01  4.53751683e-01  2.38189891e-01  2.61605531e-01\n",
            "   2.14813828e-01  3.08236003e-01  2.37611070e-01  2.27497593e-01]\n",
            " [ 3.39479506e-01  5.59910424e-02 -4.12196666e-01  7.02195391e-02\n",
            "   2.27757409e-01 -5.30066669e-01 -1.94759205e-01 -3.19440186e-01\n",
            "   2.65183955e-01 -4.06885505e-01  3.57896328e-01 -5.43521821e-01\n",
            "   4.90124046e-04  8.20524544e-02 -5.08909933e-02 -3.86572599e-01]\n",
            " [ 1.34623215e-01 -1.46819249e-01 -1.64973915e-01 -3.26423258e-01\n",
            "  -3.27050000e-01  3.56125116e-01  2.83163726e-01  6.07492149e-01\n",
            "   2.24149123e-01 -4.41270977e-01 -2.42357925e-01  1.58016966e-03\n",
            "   3.90633196e-01  4.91650462e-01  7.00481385e-02 -1.90776765e-01]\n",
            " [ 1.29167333e-01 -1.43277571e-01 -2.66603678e-01 -2.78349638e-01\n",
            "   3.83838117e-02  5.63264370e-01  8.25970843e-02 -2.91155241e-02\n",
            "   4.17353749e-01 -1.16087072e-01 -5.31417966e-01  1.86873138e-01\n",
            "   5.44398241e-02  4.06306386e-01  4.66930836e-01 -1.09405816e-01]\n",
            " [-7.46538490e-02 -8.08318332e-02 -3.62241447e-01 -1.54953927e-01\n",
            "  -3.92662138e-02  4.72572029e-01 -3.58151495e-01  2.90824026e-01\n",
            "   4.04813379e-01 -3.09050679e-01 -4.17002559e-01 -6.04275800e-02\n",
            "   2.91573435e-01 -1.35098740e-01  3.71641815e-02 -1.26956478e-01]\n",
            " [ 1.56923413e-01 -2.98792958e-01 -1.55937701e-01 -2.44010955e-01\n",
            "  -3.32328618e-01  4.54135716e-01  6.87571764e-01 -2.79095918e-01\n",
            "   3.17482382e-01 -7.81565309e-02 -4.01409209e-01  1.55940622e-01\n",
            "   3.74598265e-01  9.21116993e-02 -2.80395925e-01 -4.36465204e-01]\n",
            " [ 5.15735373e-02 -4.10124272e-01  1.11571267e-01  4.02121902e-01\n",
            "   3.86693403e-02  5.29245734e-01  1.07794747e-01  8.96321833e-02\n",
            "   2.76067197e-01 -3.01672723e-02  2.94870287e-01 -1.22374177e-01\n",
            "   1.91325068e-01  7.10037708e-01  4.31075931e-01 -2.09974185e-01]\n",
            " [ 7.66878650e-02  1.68623060e-01  2.03304905e-02  1.76425278e-02\n",
            "   2.02172488e-01 -3.78159285e-02  8.09709206e-02  1.61055580e-01\n",
            "   2.92237699e-01 -3.17420244e-01  1.06516890e-01 -1.77544639e-01\n",
            "   1.25177220e-01  4.43513662e-01  4.72565949e-01 -5.10131456e-02]\n",
            " [ 6.01334035e-01 -3.21017355e-02 -3.56887817e-01  4.00870800e-01\n",
            "  -1.99954957e-01  1.91872612e-01  3.27037513e-01  1.81668952e-01\n",
            "   4.74764526e-01 -3.81489903e-01 -5.49615659e-02 -3.47542137e-01\n",
            "   1.54007122e-01  1.45032659e-01  6.38440847e-02  4.01110724e-02]\n",
            " [ 2.16087952e-01 -4.86142784e-02 -1.05482459e-01  1.00421533e-02\n",
            "  -2.01463759e-01  4.54723865e-01  9.09417197e-02  5.86005747e-02\n",
            "   2.24657163e-01 -6.02748215e-01  2.34788060e-01 -1.14680730e-01\n",
            "   3.06472093e-01  5.12877285e-01 -7.97226802e-02  3.17955278e-02]\n",
            " [ 5.84559500e-01 -3.30347031e-01 -9.46697071e-02  1.85592487e-01\n",
            "   2.04476237e-01  7.16705769e-02  1.68362319e-01  5.65358326e-02\n",
            "  -3.29374298e-02  6.81125820e-02  1.52443200e-01 -3.62361073e-02\n",
            "   3.10714602e-01  5.54910958e-01  3.26198041e-01 -6.09137230e-02]\n",
            " [ 3.89902085e-01  8.02253634e-02  1.58595070e-02  3.93190354e-01\n",
            "  -3.88674796e-01 -2.34039932e-01  5.00143766e-01  8.98542702e-02\n",
            "   2.25298643e-01 -5.67007899e-01  2.98694938e-01 -3.38150740e-01\n",
            "   2.71657169e-01  3.03893924e-01  2.48736054e-01 -9.76482406e-02]\n",
            " [ 1.08405016e-04 -4.09888834e-01 -5.28670371e-01 -1.21180482e-01\n",
            "  -1.18527748e-01  3.09617281e-01 -3.13967131e-02  1.39437437e-01\n",
            "   1.53843045e-01 -3.86191066e-04  1.72551379e-01  1.59974277e-01\n",
            "   3.14510733e-01  4.05676097e-01  2.85297245e-01 -3.03210974e-01]\n",
            " [ 4.31543924e-02 -2.79011019e-02  3.14158723e-02  4.74768132e-01\n",
            "   2.77658571e-02  5.57163000e-01 -7.35654775e-03 -5.95796807e-03\n",
            "   3.32129389e-01 -2.25226626e-01 -1.18295409e-01 -1.83793619e-01\n",
            "   1.57380804e-01  3.27723861e-01  4.52468425e-01 -5.58016777e-01]\n",
            " [ 7.17580140e-01  1.82972252e-01  5.82496405e-01 -6.46685839e-01\n",
            "   6.13642216e-01 -6.11846626e-01 -6.87884390e-01  5.03279448e-01\n",
            "  -6.11970007e-01 -5.03412008e-01 -6.34219825e-01  6.85140312e-01\n",
            "  -6.56898141e-01 -3.68938297e-01 -1.99908968e-02  6.13889933e-01]\n",
            " [ 2.76237369e-01  3.24224345e-02  3.25749308e-01  3.34522545e-01\n",
            "  -8.02321211e-02 -1.06520746e-02  4.09068853e-01  1.46402523e-01\n",
            "   3.32806468e-01  5.41632846e-02 -4.44715589e-01  6.57054782e-02\n",
            "  -8.38804170e-02  7.01415986e-02 -1.04046933e-01  3.21071714e-01]\n",
            " [ 1.47939608e-01 -2.18591437e-01 -2.04753950e-01 -6.52068779e-02\n",
            "  -1.88116193e-01  5.83971962e-02 -8.10640976e-02  1.23159185e-01\n",
            "   1.62954852e-01 -2.57839680e-01  3.21668461e-02  1.47655278e-01\n",
            "  -1.62462723e-02  3.52751940e-01 -1.11457750e-01 -2.96435863e-01]]\n",
            "Embedding weights 2:\n",
            "[[ 3.51341022e-03  1.47449803e-02  5.14296844e-05 ...  3.80453514e-03\n",
            "   1.10285975e-01 -2.17572413e-02]\n",
            " [ 1.43447975e-02 -4.79941908e-03 -1.03816772e-02 ...  5.66046918e-03\n",
            "  -1.97528347e-01  1.31754488e-01]\n",
            " [ 1.80421725e-01 -1.70934119e-03 -1.29983053e-01 ...  8.51786602e-03\n",
            "   7.75639042e-02 -4.90745641e-02]\n",
            " ...\n",
            " [ 2.79473327e-02 -3.47393379e-02  4.47207130e-02 ...  1.26884319e-02\n",
            "  -7.10731745e-03  5.90670854e-04]\n",
            " [-8.40092823e-03  2.93630473e-02  3.71100344e-02 ... -4.84149568e-02\n",
            "   4.21882384e-02  3.72366980e-03]\n",
            " [-1.48555525e-02 -3.82266268e-02 -4.10160534e-02 ... -3.84028070e-02\n",
            "   6.97445869e-03 -3.66901979e-02]]\n"
          ]
        }
      ]
    },
    {
      "cell_type": "code",
      "execution_count": 20,
      "metadata": {
        "colab": {
          "base_uri": "https://localhost:8080/"
        },
        "id": "K4AXpAqvUKp_",
        "outputId": "a6f09294-ab42-41fa-9a8c-b7028ab5c95b"
      },
      "outputs": [
        {
          "output_type": "stream",
          "name": "stdout",
          "text": [
            "284/284 [==============================] - 2s 7ms/step\n",
            "True Negative Rate (TNR): 0.9424288507495112\n",
            "False Negative Rate (FNR): 0.04539355992844365\n",
            "True Positive Rate (TPR): 0.9546064400715564\n",
            "False Positive Rate (FPR): 0.05757114925048881\n",
            "Precision: 0.9415527128363476\n"
          ]
        }
      ],
      "source": [
        "from sklearn.metrics import confusion_matrix\n",
        "\n",
        "# Make predictions on the test data\n",
        "y_pred = model.predict([X_test_char, X_test_ngram,X_numeric_test])\n",
        "\n",
        "# Convert the predicted probabilities to binary predictions\n",
        "y_pred_binary = (y_pred > 0.5).astype(int)\n",
        "\n",
        "# Compute the confusion matrix\n",
        "conf_matrix = confusion_matrix(y_test, y_pred_binary)\n",
        "\n",
        "# Extract TP, FP, TN, FN from the confusion matrix\n",
        "TN = conf_matrix[0, 0]\n",
        "FP = conf_matrix[0, 1]\n",
        "FN = conf_matrix[1, 0]\n",
        "TP = conf_matrix[1, 1]\n",
        "\n",
        "# Compute TPR and FPR\n",
        "TPR = TP / (TP + FN)\n",
        "FPR = FP / (FP + TN)\n",
        "# Compute TNR\n",
        "TNR = TN / (TN + FP)\n",
        "\n",
        "# Compute FNR\n",
        "FNR = FN / (FN + TP)\n",
        "\n",
        "# Print TNR and FNR\n",
        "print(\"True Negative Rate (TNR):\", TNR)\n",
        "print(\"False Negative Rate (FNR):\", FNR)\n",
        "# Print TPR and FPR\n",
        "print(\"True Positive Rate (TPR):\", TPR)\n",
        "print(\"False Positive Rate (FPR):\", FPR)\n",
        "\n",
        "\n",
        "# Compute precision\n",
        "precision = TP / (TP + FP)\n",
        "\n",
        "# Print precision\n",
        "print(\"Precision:\", precision)\n"
      ]
    },
    {
      "cell_type": "code",
      "execution_count": 21,
      "metadata": {
        "colab": {
          "base_uri": "https://localhost:8080/",
          "height": 564
        },
        "id": "9mrziDHIn3k3",
        "outputId": "33e61e3b-a9fe-4d22-d967-325d34b789c5"
      },
      "outputs": [
        {
          "output_type": "display_data",
          "data": {
            "text/plain": [
              "<Figure size 800x600 with 2 Axes>"
            ],
            "image/png": "[encoded data removed]"
          },
          "metadata": {}
        }
      ],
      "source": [
        "import matplotlib.pyplot as plt\n",
        "import seaborn as sns\n",
        "\n",
        "# Define classes\n",
        "classes = ['Benign', 'Phishing']\n",
        "\n",
        "# Plot confusion matrix as a heatmap\n",
        "plt.figure(figsize=(8, 6))\n",
        "sns.heatmap(conf_matrix, annot=True, fmt='d', cmap='Blues', xticklabels=classes, yticklabels=classes)\n",
        "plt.xlabel('Predicted Label')\n",
        "plt.ylabel('True Label')\n",
        "plt.title('Confusion Matrix')\n",
        "plt.show()\n"
      ]
    },
    {
      "cell_type": "code",
      "execution_count": 22,
      "metadata": {
        "colab": {
          "base_uri": "https://localhost:8080/"
        },
        "id": "t7tLKU8ZsCrm",
        "outputId": "7b07a73d-5adc-4c4d-b8a0-803b4507a0e9"
      },
      "outputs": [
        {
          "output_type": "stream",
          "name": "stdout",
          "text": [
            "284/284 [==============================] - 2s 7ms/step\n",
            "AUC: 0.9871750097257098\n",
            "Recall: 0.9546064400715564\n",
            "F1 score: 0.9480346435709527\n"
          ]
        }
      ],
      "source": [
        "from sklearn.metrics import roc_auc_score, recall_score, f1_score\n",
        "\n",
        "# Predict probabilities for the test set\n",
        "y_pred_probs = model.predict([X_test_char, X_test_ngram, X_numeric_test])\n",
        "\n",
        "# Convert probabilities to binary predictions\n",
        "y_pred = (y_pred_probs > 0.5).astype(int)\n",
        "\n",
        "# Calculate AUC\n",
        "auc = roc_auc_score(y_test, y_pred_probs)\n",
        "\n",
        "# Calculate recall\n",
        "recall = recall_score(y_test, y_pred)\n",
        "\n",
        "# Calculate F1 score\n",
        "f1 = f1_score(y_test, y_pred)\n",
        "\n",
        "print(\"AUC:\", auc)\n",
        "print(\"Recall:\", recall)\n",
        "print(\"F1 score:\", f1)\n"
      ]
    },
    {
      "cell_type": "code",
      "source": [
        "from sklearn.metrics import roc_curve, auc\n",
        "import matplotlib.pyplot as plt\n",
        "\n",
        "# Calculate false positive rate (fpr), true positive rate (tpr), and thresholds\n",
        "fpr, tpr, thresholds = roc_curve(y_test, y_pred_probs)\n",
        "\n",
        "# Calculate AUC (Area Under the Curve)\n",
        "roc_auc = auc(fpr, tpr)\n",
        "\n",
        "# Plot ROC curve\n",
        "plt.figure()\n",
        "plt.plot(fpr, tpr, color='darkorange', lw=2, label='ROC curve (AUC = %0.2f)' % roc_auc)\n",
        "plt.plot([0, 1], [0, 1], color='navy', lw=2, linestyle='--')\n",
        "plt.xlim([0.0, 1.0])\n",
        "plt.ylim([0.0, 1.05])\n",
        "plt.xlabel('False Positive Rate')\n",
        "plt.ylabel('True Positive Rate')\n",
        "plt.title('Receiver Operating Characteristic (ROC) Curve')\n",
        "plt.legend(loc=\"lower right\")\n",
        "plt.show()\n"
      ],
      "metadata": {
        "colab": {
          "base_uri": "https://localhost:8080/",
          "height": 472
        },
        "id": "VnI6zMMXVOAi",
        "outputId": "9d56fcce-f0b6-4e1b-dd58-0bda0dad8e97"
      },
      "execution_count": 23,
      "outputs": [
        {
          "output_type": "display_data",
          "data": {
            "text/plain": [
              "<Figure size 640x480 with 1 Axes>"
            ],
            "image/png": "[encoded data removed]"
          },
          "metadata": {}
        }
      ]
    },
    {
      "cell_type": "code",
      "execution_count": null,
      "metadata": {
        "id": "80NK6fZ2aS5Z"
      },
      "outputs": [],
      "source": [
        "\n",
        "from sklearn.model_selection import train_test_split\n",
        "from tensorflow.keras.optimizers import Adam\n",
        "from tensorflow.keras.callbacks import EarlyStopping\n",
        "from tensorflow.keras.models import Model\n",
        "from tensorflow.keras.layers import Input, Embedding, Conv1D, MaxPooling1D, Flatten, Dense, Dropout, Concatenate\n",
        "from tensorflow.keras.preprocessing.sequence import pad_sequences\n",
        "from sklearn.metrics import accuracy_score\n",
        "from tensorflow.keras.models import load_model"
      ]
    },
    {
      "cell_type": "code",
      "execution_count": 25,
      "metadata": {
        "colab": {
          "base_uri": "https://localhost:8080/",
          "height": 407
        },
        "id": "p36lSStHJx4R",
        "outputId": "a1c310cb-6991-4ea8-ed1f-7da464df9f1a"
      },
      "outputs": [
        {
          "output_type": "display_data",
          "data": {
            "text/plain": [
              "<Figure size 1200x400 with 1 Axes>"
            ],
            "image/png": "[encoded data removed]"
          },
          "metadata": {}
        }
      ],
      "source": [
        "import matplotlib.pyplot as plt\n",
        "\n",
        "plt.figure(figsize=(12, 4))\n",
        "\n",
        "\n",
        "\n",
        "# Plot training & validation accuracy values\n",
        "plt.subplot(1, 2, 2)\n",
        "plt.plot(history.history['accuracy'], label='Training Accuracy')\n",
        "plt.plot(history.history['val_accuracy'], label='Validation Accuracy')\n",
        "plt.title('Model Accuracy')\n",
        "plt.xlabel('Epoch')\n",
        "plt.ylabel('Accuracy')\n",
        "plt.legend()\n",
        "\n",
        "plt.tight_layout()\n",
        "plt.show()"
      ]
    },
    {
      "cell_type": "markdown",
      "metadata": {
        "id": "CNHsCHrI1koh"
      },
      "source": [
        "### Saving the model"
      ]
    },
    {
      "cell_type": "code",
      "execution_count": 26,
      "metadata": {
        "colab": {
          "base_uri": "https://localhost:8080/"
        },
        "id": "Trxd-_V72i7h",
        "outputId": "d0287d4b-4851-48e5-ae07-6393088a7f9a"
      },
      "outputs": [
        {
          "output_type": "stream",
          "name": "stderr",
          "text": [
            "/usr/local/lib/python3.10/dist-packages/keras/src/engine/training.py:3103: UserWarning: You are saving your model as an HDF5 file via `model.save()`. This file format is considered legacy. We recommend using instead the native Keras format, e.g. `model.save('my_model.keras')`.\n",
            "  saving_api.save_model(\n"
          ]
        }
      ],
      "source": [
        "model_save_path = '/content/drive/My Drive/model/final_model2.h5'\n",
        "\n",
        "# Save the model\n",
        "model.save(model_save_path)"
      ]
    },
    {
      "cell_type": "code",
      "execution_count": 28,
      "metadata": {
        "id": "7yIDDURY3b31"
      },
      "outputs": [],
      "source": [
        "import tensorflow as tf\n",
        "from tensorflow.keras.models import load_model\n",
        "\n",
        "\n",
        "# Define your custom attention layer class\n",
        "class AttentionLayer(tf.keras.layers.Layer):\n",
        "    def __init__(self, dropout_rate=0.1, **kwargs):\n",
        "        super(AttentionLayer, self).__init__(**kwargs)\n",
        "        self.dropout_rate = dropout_rate\n",
        "\n",
        "    def build(self, input_shape):\n",
        "        self.W = self.add_weight(name=\"att_weight\", shape=(input_shape[-1], 1), initializer=\"glorot_normal\")\n",
        "        self.b = self.add_weight(name=\"att_bias\", shape=(input_shape[1], 1), initializer=\"zeros\")\n",
        "        self.dropout = tf.keras.layers.Dropout(self.dropout_rate)\n",
        "        self.layer_norm = tf.keras.layers.LayerNormalization(epsilon=1e-6)\n",
        "        super(AttentionLayer, self).build(input_shape)\n",
        "\n",
        "    def call(self, x, mask=None):\n",
        "        et = tf.squeeze(tf.tanh(tf.matmul(x, self.W) + self.b), axis=-1)\n",
        "        if mask is not None:\n",
        "            et += (1.0 - mask) * -1e9  # Masked positions will have very negative scores\n",
        "        at = tf.nn.softmax(et)\n",
        "        at = tf.expand_dims(at, axis=-1)\n",
        "        output = x * at\n",
        "        output = tf.reduce_sum(output, axis=1)\n",
        "        output = self.layer_norm(output)\n",
        "        output = self.dropout(output)\n",
        "        return output\n",
        "\n",
        "# Define a custom object scope to register the custom layer\n",
        "with tf.keras.utils.custom_object_scope({'AttentionLayer': AttentionLayer}):\n",
        "    # Load the entire model\n",
        "    loaded_model = load_model('/content/drive/MyDrive/model/final_model2.h5')\n"
      ]
    },
    {
      "cell_type": "markdown",
      "metadata": {
        "id": "n5U80B3O3uZf"
      },
      "source": [
        "### Predict"
      ]
    },
    {
      "cell_type": "code",
      "execution_count": 29,
      "metadata": {
        "id": "aYe4jRks7092"
      },
      "outputs": [],
      "source": [
        "# 5.Gives number of '/' in URL (URL_Depth)\n",
        "def getDepth(url):\n",
        "    # Split the path of the URL on the dot character\n",
        "    parsed_url = urlparse(url if '://' in url else 'http://' + url.strip())\n",
        "    dom_url = parsed_url.netloc\n",
        "    s = dom_url.split('.')\n",
        "    depth = 0\n",
        "    for part in s:\n",
        "        if part:\n",
        "            depth += 1\n",
        "\n",
        "    return depth"
      ]
    },
    {
      "cell_type": "code",
      "execution_count": 30,
      "metadata": {
        "id": "TfVcvEUn8ACZ"
      },
      "outputs": [],
      "source": [
        "# 6.Checking for redirection '//' in the url (Redirection)\n",
        "def redirection(url):\n",
        "  pos = url.rfind('//')\n",
        "  if pos > 6:\n",
        "    if pos > 7:\n",
        "      return 1\n",
        "    else:\n",
        "      return 0\n",
        "  else:\n",
        "    return 0"
      ]
    },
    {
      "cell_type": "code",
      "execution_count": 31,
      "metadata": {
        "id": "pMoIUWXx9BAM"
      },
      "outputs": [],
      "source": [
        "#listing shortening services\n",
        "shortening_services = r\"bit\\.ly|goo\\.gl|shorte\\.st|go2l\\.ink|x\\.co|ow\\.ly|t\\.co|tinyurl|tr\\.im|is\\.gd|cli\\.gs|\" \\\n",
        "                      r\"yfrog\\.com|migre\\.me|ff\\.im|tiny\\.cc|url4\\.eu|twit\\.ac|su\\.pr|twurl\\.nl|snipurl\\.com|\" \\\n",
        "                      r\"short\\.to|BudURL\\.com|ping\\.fm|post\\.ly|Just\\.as|bkite\\.com|snipr\\.com|fic\\.kr|loopt\\.us|\" \\\n",
        "                      r\"doiop\\.com|short\\.ie|kl\\.am|wp\\.me|rubyurl\\.com|om\\.ly|to\\.ly|bit\\.do|t\\.co|lnkd\\.in|db\\.tt|\" \\\n",
        "                      r\"qr\\.ae|adf\\.ly|goo\\.gl|bitly\\.com|cur\\.lv|tinyurl\\.com|ow\\.ly|bit\\.ly|ity\\.im|q\\.gs|is\\.gd|\" \\\n",
        "                      r\"po\\.st|bc\\.vc|twitthis\\.com|u\\.to|j\\.mp|buzurl\\.com|cutt\\.us|u\\.bb|yourls\\.org|x\\.co|\" \\\n",
        "                      r\"prettylinkpro\\.com|scrnchS\\.me|filoops\\.info|vzturl\\.com|qr\\.net|1url\\.com|tweez\\.me|v\\.gd|\" \\\n",
        "                      r\"tr\\.im|link\\.zip\\.net\""
      ]
    },
    {
      "cell_type": "code",
      "execution_count": 32,
      "metadata": {
        "id": "91HvmAev9Dbs"
      },
      "outputs": [],
      "source": [
        "# 8. Checking for Shortening Services in URL (Tiny_URL)\n",
        "def tinyURL(url):\n",
        "    match=re.search(shortening_services,url)\n",
        "    if match:\n",
        "        return 1\n",
        "    else:\n",
        "        return 0"
      ]
    },
    {
      "cell_type": "code",
      "execution_count": 33,
      "metadata": {
        "id": "Q4Av6oi29OMe"
      },
      "outputs": [],
      "source": [
        "def count_hyphens(url):\n",
        "    urld =  url.split('/')[0]\n",
        "    return urld.count('-')"
      ]
    },
    {
      "cell_type": "markdown",
      "metadata": {
        "id": "9eS1CU3DZnC5"
      },
      "source": [
        "### change in url depth"
      ]
    },
    {
      "cell_type": "code",
      "execution_count": 34,
      "metadata": {
        "colab": {
          "base_uri": "https://localhost:8080/"
        },
        "id": "VQsmIhuo5XiV",
        "outputId": "0e47456f-60aa-4e8c-e96c-feaee9dc9504"
      },
      "outputs": [
        {
          "output_type": "stream",
          "name": "stdout",
          "text": [
            "has_ip                          0\n",
            "special_and_numbers_count       7\n",
            "depth                           3\n",
            "shortened_url                   0\n",
            "hyphen_count                    0\n",
            "url_length                   20.0\n",
            "Name: 0, dtype: object\n"
          ]
        }
      ],
      "source": [
        "import pandas as pd\n",
        "from sklearn.preprocessing import MinMaxScaler\n",
        "import re\n",
        "\n",
        "new_url = \"s18p3x76.duckdns.org\"\n",
        "tdf = pd.DataFrame(columns=[\"has_ip\",\"special_and_numbers_count\",\"depth\",\"shortened_url\",\"hyphen_count\"])\n",
        "\n",
        "ip_pattern = r'\\b(?:[0-9]{1,3}\\.){3}[0-9]{1,3}\\b'\n",
        "\n",
        "# Check if the URL contains an IP address pattern\n",
        "tdf.loc[0, 'has_ip'] = int(bool(re.search(ip_pattern, new_url)))\n",
        "\n",
        "tdf.loc[0, 'special_and_numbers_count'] = sum(not c.isalpha() for c in new_url)\n",
        "\n",
        "tdf.loc[0, 'url_length'] = len(new_url)\n",
        "\n",
        "var = getDepth(new_url)\n",
        "tdf.loc[0, 'depth'] = var\n",
        "\n",
        "# tdf.loc[0, 'redirection'] = redirection(new_url)\n",
        "\n",
        "tdf.loc[0, 'shortened_url'] = tinyURL(new_url)\n",
        "\n",
        "tdf.loc[0, 'hyphen_count'] = count_hyphens(new_url)\n",
        "\n",
        "\n",
        "print(tdf.iloc[0])\n",
        "\n",
        "# # Normalization using MinMaxScaler\n",
        "# scaler = MinMaxScaler()\n",
        "# tdf[['special_and_numbers_count', 'url_length', 'depth','hyphen_count']] = scaler.fit_transform(tdf[['special_and_numbers_count', 'url_length', 'depth','hyphen_count']])"
      ]
    },
    {
      "cell_type": "code",
      "execution_count": 35,
      "metadata": {
        "id": "5oEbTKWwZHUY"
      },
      "outputs": [],
      "source": [
        "def preprocess(new_url):\n",
        "  # Preprocessing steps\n",
        "  # Replace less frequent characters with '<UNK>'\n",
        "  for char in new_url:\n",
        "      if char not in unique_characters:\n",
        "          new_url = new_url.replace(char, '<UNK>')\n",
        "\n",
        "  # Tokenize the new URL\n",
        "  new_url_sequence = tokenizer.texts_to_sequences([new_url])\n",
        "\n",
        "  # Pad the sequence to the same length as the training data\n",
        "  new_url_padded = pad_sequences(new_url_sequence, maxlen=50, padding='post', truncating='post')\n",
        "  return new_url_padded"
      ]
    },
    {
      "cell_type": "code",
      "execution_count": 36,
      "metadata": {
        "id": "M7_xeKrbzTmJ"
      },
      "outputs": [],
      "source": [
        "# Import necessary libraries\n",
        "from sklearn.feature_extraction.text import CountVectorizer\n",
        "\n",
        "def getngram(new_url):\n",
        "\n",
        "  # Define the n-gram range and maximum number of features\n",
        "  ngram_range = (2, 5)  # Consider n-grams of length 2 to 5\n",
        "  max_features = 1000  # Maximum number of features\n",
        "\n",
        "  # Initialize CountVectorizer to extract n-grams\n",
        "  vectorizer = CountVectorizer(analyzer='char', ngram_range=ngram_range, max_features=max_features)\n",
        "\n",
        "  # Convert the new URL to a list of strings\n",
        "  new_url_list = [new_url]\n",
        "\n",
        "  # Fit the vectorizer on your training data\n",
        "  vectorizer.fit(X_train_list)\n",
        "\n",
        "  # Transform the new URL into n-gram representation using the fitted CountVectorizer\n",
        "  new_url_ngram = vectorizer.transform(new_url_list)\n",
        "\n",
        "  # Convert the sparse matrix to a dense array\n",
        "  new_url_ngram = new_url_ngram.toarray()\n",
        "\n",
        "  # Print the shape of the n-gram matrix\n",
        "  print(\"Shape of new_url_ngram:\", new_url_ngram.shape)\n",
        "  return new_url_ngram\n"
      ]
    },
    {
      "cell_type": "code",
      "source": [
        "def get_domain(url):\n",
        "    parsed_url = urlparse(url if '://' in url else 'http://' + url.strip())\n",
        "    return parsed_url.netloc\n"
      ],
      "metadata": {
        "id": "tNl69g3SQElY"
      },
      "execution_count": 37,
      "outputs": []
    },
    {
      "cell_type": "code",
      "execution_count": 38,
      "metadata": {
        "id": "Q2xzlV1iZvT-"
      },
      "outputs": [],
      "source": [
        "# from tensorflow.keras.layers import Input, Embedding, Conv1D, MaxPooling1D, Concatenate, Flatten, Dense, Dropout, Reshape\n",
        "# from tensorflow.keras.models import Model\n",
        "\n",
        "# # Make predictions\n",
        "# def predict(new_url):\n",
        "#   url_dom = get_domain(new_url)\n",
        "#   new_url_padded = preprocess(url_dom)\n",
        "#   new_url_ngram = getngram(url_dom)\n",
        "#   new_url_padded = np.array(new_url_padded)\n",
        "#   new_url_ngram = np.array(new_url_ngram)\n",
        "#   max_sequence_length_char = 40\n",
        "#   tdf_values = [tdf.values.tolist()[0]]\n",
        "#   tdf_values = np.array(tdf_values)\n",
        "\n",
        "#   # max_sequence_length_ngram = len(vectorizer.vocabulary_)\n",
        "#   # embedding_dim = 32 #16\n",
        "#   # num_filters = 128\n",
        "#   # filter_sizes = [3,4,5]\n",
        "\n",
        "#   # char_data = np.array([new_url_padded])  # Assuming single sample\n",
        "#   # ngram_data = np.array([new_url_ngram])  # Assuming single sample\n",
        "\n",
        "#   # # Step 3: Pass Input Data through Embedding Layers\n",
        "#   # embedded_char_data = embedding_layer_char(char_data)\n",
        "#   # embedded_ngram_data = embedding_layer_ngram(ngram_data)\n",
        "\n",
        "#   # # Convolutional blocks for character embedding\n",
        "#   # conv_blocks_char = []\n",
        "#   # for filter_size in filter_sizes:\n",
        "#   #     conv_layer = Conv1D(filters=num_filters, kernel_size=filter_size, activation='relu')(embedding_layer_char)\n",
        "#   #     maxpool_layer = MaxPooling1D(pool_size=max_sequence_length_char - filter_size + 1)(conv_layer)\n",
        "#   #     conv_blocks_char.append(maxpool_layer)\n",
        "\n",
        "#   # # Convolutional blocks for n-gram embedding\n",
        "#   # conv_blocks_ngram = []\n",
        "#   # for filter_size in filter_sizes:\n",
        "#   #     conv_layer = Conv1D(filters=num_filters, kernel_size=filter_size, activation='relu')(embedding_layer_ngram)\n",
        "#   #     maxpool_layer = MaxPooling1D(pool_size=max_sequence_length_ngram - filter_size + 1)(conv_layer)\n",
        "#   #     conv_blocks_ngram.append(maxpool_layer)\n",
        "\n",
        "#   # # Concatenate the outputs from different filter sizes for both character and n-gram embeddings\n",
        "#   # concatenated_char = Concatenate()(conv_blocks_char)\n",
        "#   # concatenated_ngram = Concatenate()(conv_blocks_ngram)\n",
        "\n",
        "\n",
        "#   # # Concatenate the outputs from character and n-gram embeddings\n",
        "#   # concatenated_output = Concatenate()([concatenated_char, concatenated_ngram,tdf_values])\n",
        "\n",
        "#   # attention_output = AttentionLayer()(concatenated_output)\n",
        "\n",
        "\n",
        "#   # prediction = loaded_model.predict(attention_output)\n",
        "\n",
        "#   prediction = loaded_model.predict([new_url_padded,new_url_ngram,tdf_values])\n",
        "\n",
        "#   binary_prediction = (prediction > 0.5).astype(int)\n",
        "#   print(new_url)\n",
        "#   print(prediction)\n",
        "#   print(binary_prediction)\n",
        "#   print(\"Predicted Class:\", \"Malicious\" if binary_prediction == 1 else \"Benign\")"
      ]
    },
    {
      "cell_type": "code",
      "source": [
        "# Make predictions\n",
        "def predict(new_url):\n",
        "  new_url_padded = preprocess(new_url)\n",
        "  new_url_ngram = getngram(new_url)\n",
        "  tdf_values = [tdf.values.tolist()[0]]\n",
        "  new_url_padded = np.array(new_url_padded)\n",
        "  new_url_ngram = np.array(new_url_ngram)\n",
        "  tdf_values = np.array(tdf_values)\n",
        "  print(tdf_values)\n",
        "\n",
        "  prediction = loaded_model.predict([new_url_padded,new_url_ngram,tdf_values])\n",
        "\n",
        "  binary_prediction = (prediction > 0.5).astype(int)\n",
        "  print(new_url)\n",
        "  print(binary_prediction)\n",
        "  print(\"Predicted Class:\", \"Malicious\" if binary_prediction == 1 else \"Benign\")"
      ],
      "metadata": {
        "id": "cejjhrdTafZX"
      },
      "execution_count": 43,
      "outputs": []
    },
    {
      "cell_type": "code",
      "execution_count": 44,
      "metadata": {
        "colab": {
          "base_uri": "https://localhost:8080/"
        },
        "id": "1WjiFlkvN7Z1",
        "outputId": "7884596e-5566-40a7-f816-c7673c7b2b0c"
      },
      "outputs": [
        {
          "output_type": "stream",
          "name": "stdout",
          "text": [
            "Shape of new_url_ngram: (1, 1000)\n",
            "[[ 0.  7.  3.  0.  0. 20.]]\n",
            "1/1 [==============================] - 0s 20ms/step\n",
            "s18p3x76.duckdns.org\n",
            "[[1]]\n",
            "Predicted Class: Malicious\n"
          ]
        }
      ],
      "source": [
        "predict(\"s18p3x76.duckdns.org\")"
      ]
    }
  ],
  "metadata": {
    "accelerator": "GPU",
    "colab": {
      "provenance": []
    },
    "kernelspec": {
      "display_name": "Python 3",
      "name": "python3"
    },
    "language_info": {
      "name": "python"
    }
  },
  "nbformat": 4,
  "nbformat_minor": 0
}